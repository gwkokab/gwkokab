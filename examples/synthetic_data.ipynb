{
 "cells": [
  {
   "cell_type": "markdown",
   "metadata": {},
   "source": [
    "# Synthetic Data Generation with GWKokab\n",
    "\n",
    "Welcome to this Python notebook, where we'll learn how to leverage GWKokab to generate synthetic data. Let's get started and discover how GWKokab can help us generate high-quality synthetic data!\n",
    "\n",
    "In this tutorial we are generating data from `Wysocki2019MassModel`, see eq (7) of [Wysocki et al](https://journals.aps.org/prd/abstract/10.1103/PhysRevD.100.043012), for the primary and secondary mass of the binary system, and Truncated Normal distribution for the eccentricity of the orbit. The models are defined as follows:\n",
    "\n",
    "$$\n",
    "    p(m_1,m_2\\mid\\alpha_m,m_{\\text{min}},m_{\\text{max}})\\propto\n",
    "    \\frac{m_1^{-\\alpha}}{m_1-m_{\\text{min}}} \\qquad \\mathcal{N}_{[a,b]}(\\epsilon\\mid\\mu,\\sigma^2)\\propto\\exp\\left(-\\frac{1}{2}\\left(\\frac{\\epsilon-\\mu}{\\sigma}\\right)^2\\right)\\mathbb{1}_{[a,b]}(\\epsilon)\n",
    "$$\n",
    "\n",
    "where the chosen values are $\\alpha_m=-1$, $m_{\\text{min}}=10M_\\odot$, $m_{\\text{max}}=50M_\\odot$, $a=0$, $b=0.05$, $\\mu=0$ and $\\sigma=0.05$.\n",
    "\n",
    "## Environment Variables\n",
    "\n",
    "GWKokab at its core used JAX for fast computation. To setup the behavior of JAX based on the accelerator you are using, you have to set the environment variables. Here are the environment variables that you can set:"
   ]
  },
  {
   "cell_type": "code",
   "execution_count": 1,
   "metadata": {},
   "outputs": [],
   "source": [
    "import os\n",
    "\n",
    "\n",
    "os.environ[\"NPROC\"] = \"4\"\n",
    "os.environ[\"intra_op_parallelism_threads\"] = \"1\"\n",
    "os.environ[\"TF_CPP_MIN_LOG_LEVEL\"] = \"0\"\n",
    "os.environ[\"OPENBLAS_NUM_THREADS\"] = \"1\"\n",
    "os.environ[\"XLA_PYTHON_CLIENT_ALLOCATOR\"] = \"platform\"\n",
    "os.environ[\"TF_FORCE_GPU_ALLOW_GROWTH\"] = \"false\"\n",
    "os.environ[\"CUDA_VISIBLE_DEVICES\"] = \"0\""
   ]
  },
  {
   "cell_type": "markdown",
   "metadata": {},
   "source": [
    "## Necessary Imports\n",
    "\n",
    "Let's start by importing the necessary libraries."
   ]
  },
  {
   "cell_type": "code",
   "execution_count": 2,
   "metadata": {},
   "outputs": [
    {
     "name": "stderr",
     "output_type": "stream",
     "text": [
      "/home/gradf/miniforge3/envs/gwkenv/lib/python3.11/site-packages/ligo/lw/lsctables.py:89: UserWarning: Wswiglal-redir-stdio:\n",
      "\n",
      "SWIGLAL standard output/error redirection is enabled in IPython.\n",
      "This may lead to performance penalties. To disable locally, use:\n",
      "\n",
      "with lal.no_swig_redirect_standard_output_error():\n",
      "    ...\n",
      "\n",
      "To disable globally, use:\n",
      "\n",
      "lal.swig_redirect_standard_output_error(False)\n",
      "\n",
      "Note however that this will likely lead to error messages from\n",
      "LAL functions being either misdirected or lost when called from\n",
      "Jupyter notebooks.\n",
      "\n",
      "To suppress this warning, use:\n",
      "\n",
      "import warnings\n",
      "warnings.filterwarnings(\"ignore\", \"Wswiglal-redir-stdio\")\n",
      "import lal\n",
      "\n",
      "  import lal\n",
      "[Loading lalsimutils.py : MonteCarloMarginalization version]\n",
      "  scipy :  1.14.0\n",
      "  numpy :  1.26.4\n"
     ]
    }
   ],
   "source": [
    "from jax import vmap\n",
    "from jaxtyping import Array, Bool\n",
    "from numpyro.distributions import TruncatedNormal\n",
    "\n",
    "from gwkokab.errors import banana_error_m1_m2\n",
    "from gwkokab.models import Wysocki2019MassModel\n",
    "from gwkokab.parameters import ECCENTRICITY, PRIMARY_MASS_SOURCE, SECONDARY_MASS_SOURCE\n",
    "from gwkokab.population import error_magazine, popfactory, popmodel_magazine\n",
    "from gwkokab.vts.neuralvt import load_model"
   ]
  },
  {
   "cell_type": "markdown",
   "metadata": {},
   "source": [
    "## Constant Parameters\n",
    "\n",
    "People make typos all the time, and to avoid that, we have predefined the physical parameters in the `gwkokab.parameters` module. They are more than the predefined parameters names, we will see this later."
   ]
  },
  {
   "cell_type": "code",
   "execution_count": 3,
   "metadata": {},
   "outputs": [
    {
     "name": "stdout",
     "output_type": "stream",
     "text": [
      "mass_1_source mass_2_source ecc\n"
     ]
    }
   ],
   "source": [
    "m1_source = PRIMARY_MASS_SOURCE().name\n",
    "m2_source = SECONDARY_MASS_SOURCE().name\n",
    "ecc = ECCENTRICITY().name\n",
    "\n",
    "print(m1_source, m2_source, ecc)"
   ]
  },
  {
   "cell_type": "markdown",
   "metadata": {},
   "source": [
    "## How to define models and errors?\n",
    "\n",
    "After the release of version 0.0.2, GWKokab has adopted the style of using decorators. This makes it easier to define models and errors. One method is to directly pass parameters and model to the decorator, and the other is to define a function that will return the model and put the decorator on top of it. This style is preferred for complex models."
   ]
  },
  {
   "cell_type": "code",
   "execution_count": 4,
   "metadata": {},
   "outputs": [
    {
     "data": {
      "text/plain": [
       "<numpyro.distributions.truncated.TwoSidedTruncatedDistribution at 0x7f345e765090>"
      ]
     },
     "execution_count": 4,
     "metadata": {},
     "output_type": "execute_result"
    }
   ],
   "source": [
    "popmodel_magazine.register(\n",
    "    (m1_source, m2_source),\n",
    "    Wysocki2019MassModel(alpha_m=-1.0, mmin=10.0, mmax=50.0),\n",
    ")\n",
    "\n",
    "popmodel_magazine.register(\n",
    "    ecc,\n",
    "    TruncatedNormal(scale=0.05, loc=0.0, low=0.0, high=0.05, validate_args=True),\n",
    ")"
   ]
  },
  {
   "cell_type": "markdown",
   "metadata": {},
   "source": [
    "Error functions are also defined in same way. Note that the error functions takes the row of data, size of error and `PRNGKey` in order."
   ]
  },
  {
   "cell_type": "code",
   "execution_count": 5,
   "metadata": {},
   "outputs": [],
   "source": [
    "@error_magazine.register((m1_source, m2_source))\n",
    "def m1m2_error_fn(x, size, key):\n",
    "    return banana_error_m1_m2(x, size, key, scale_Mc=1.0, scale_eta=1.0)\n",
    "\n",
    "\n",
    "@error_magazine.register(ecc)\n",
    "def ecc_error_fn(x, size, key):\n",
    "    return x + TruncatedNormal(loc=0, scale=0.06, low=0.0, high=0.06).sample(\n",
    "        key=key, sample_shape=(size,)\n",
    "    )"
   ]
  },
  {
   "cell_type": "markdown",
   "metadata": {},
   "source": [
    "## VT Sensitivity and flexibility for users\n",
    "\n",
    "We have allowed users to define the `logVT` function. This gives them the flexibility to chose any parameter for data model and VT sensitivity, only thing they have to change is the `logVT` function."
   ]
  },
  {
   "cell_type": "code",
   "execution_count": 6,
   "metadata": {},
   "outputs": [
    {
     "name": "stdout",
     "output_type": "stream",
     "text": [
      "--2024-07-16 02:12:57--  https://raw.githubusercontent.com/gwkokab/asset-store/main/neural_vts/neural_vt_1_200_1000.eqx\n",
      "Resolving raw.githubusercontent.com (raw.githubusercontent.com)... 185.199.111.133, 185.199.109.133, 185.199.108.133, ...\n",
      "Connecting to raw.githubusercontent.com (raw.githubusercontent.com)|185.199.111.133|:443... connected.\n",
      "HTTP request sent, awaiting response... 200 OK\n",
      "Length: 401749 (392K) [application/octet-stream]\n",
      "Saving to: ‘neural_vt_1_200_1000.eqx’\n",
      "\n",
      "neural_vt_1_200_100 100%[===================>] 392.33K  1.04MB/s    in 0.4s    \n",
      "\n",
      "2024-07-16 02:12:58 (1.04 MB/s) - ‘neural_vt_1_200_1000.eqx’ saved [401749/401749]\n",
      "\n"
     ]
    }
   ],
   "source": [
    "!wget -c https://raw.githubusercontent.com/gwkokab/asset-store/main/neural_vts/neural_vt_1_200_1000.eqx"
   ]
  },
  {
   "cell_type": "code",
   "execution_count": 7,
   "metadata": {},
   "outputs": [],
   "source": [
    "_, logVT = load_model(r\"neural_vt_1_200_1000.eqx\")\n",
    "logVT = vmap(logVT)"
   ]
  },
  {
   "cell_type": "markdown",
   "metadata": {},
   "source": [
    "## Population Generation\n",
    "\n",
    "Before generating the population, we have to pass the essential parameters to the `gwkokab.population.popfactory` to generate the population. These parameters are passed below."
   ]
  },
  {
   "cell_type": "code",
   "execution_count": 8,
   "metadata": {},
   "outputs": [],
   "source": [
    "popfactory.analysis_time = 248\n",
    "popfactory.rate = 100\n",
    "popfactory.log_VT_fn = logVT\n",
    "popfactory.VT_params = [m1_source, m2_source]\n",
    "popfactory.error_size = 2000"
   ]
  },
  {
   "cell_type": "markdown",
   "metadata": {},
   "source": [
    "Often we want to put an overall constraint on the population, for example, the primary mass should be greater than the secondary mass. We can do this by defining a function that takes the population as input and returns a boolean value."
   ]
  },
  {
   "cell_type": "code",
   "execution_count": 9,
   "metadata": {},
   "outputs": [],
   "source": [
    "def constraint(x: Array) -> Bool:\n",
    "    m1 = x[..., 0]\n",
    "    m2 = x[..., 1]\n",
    "    ecc = x[..., 2]\n",
    "    mask = m2 <= m1\n",
    "    mask &= m2 > 0.0\n",
    "    mask &= m1 > 0.0\n",
    "    mask &= ecc >= 0.0\n",
    "    mask &= ecc <= 1.0\n",
    "    return mask\n",
    "\n",
    "\n",
    "popfactory.constraint = constraint"
   ]
  },
  {
   "cell_type": "markdown",
   "metadata": {},
   "source": [
    "With all set up, we can now generate the synthetic data."
   ]
  },
  {
   "cell_type": "code",
   "execution_count": 10,
   "metadata": {},
   "outputs": [],
   "source": [
    "popfactory.produce()"
   ]
  }
 ],
 "metadata": {
  "kernelspec": {
   "display_name": "gwkenv",
   "language": "python",
   "name": "python3"
  },
  "language_info": {
   "codemirror_mode": {
    "name": "ipython",
    "version": 3
   },
   "file_extension": ".py",
   "mimetype": "text/x-python",
   "name": "python",
   "nbconvert_exporter": "python",
   "pygments_lexer": "ipython3",
   "version": "3.11.9"
  }
 },
 "nbformat": 4,
 "nbformat_minor": 2
}
