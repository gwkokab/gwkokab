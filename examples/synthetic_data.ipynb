{
 "cells": [
  {
   "cell_type": "markdown",
   "metadata": {},
   "source": [
    "# Synthetic Data Generation with GWKokab\n",
    "\n",
    "Welcome to this Python notebook, where we'll learn how to leverage GWKokab to generate synthetic data. Let's get started and discover how GWKokab can help us generate high-quality synthetic data!\n",
    "\n",
    "In this tutorial we are generating data from `Wysocki2019MassModel`, see eq (7) of [Wysocki et al](https://journals.aps.org/prd/abstract/10.1103/PhysRevD.100.043012), for the primary and secondary mass of the binary system, and Truncated Normal distribution for the eccentricity of the orbit. The models are defined as follows:\n",
    "\n",
    "$$\n",
    "    p(m_1,m_2\\mid\\alpha_m,m_{\\text{min}},m_{\\text{max}})\\propto\n",
    "    \\frac{m_1^{-\\alpha}}{m_1-m_{\\text{min}}} \\qquad \\mathcal{N}_{[a,b]}(\\epsilon\\mid\\mu,\\sigma^2)\\propto\\exp\\left(-\\frac{1}{2}\\left(\\frac{\\epsilon-\\mu}{\\sigma}\\right)^2\\right)\\mathbb{1}_{[a,b]}(\\epsilon)\n",
    "$$\n",
    "\n",
    "where the chosen values are $\\alpha_m=-1$, $m_{\\text{min}}=10M_\\odot$, $m_{\\text{max}}=50M_\\odot$, $a=0$, $b=0.05$, $\\mu=0$ and $\\sigma=0.05$.\n",
    "\n",
    "## Environment Variables\n",
    "\n",
    "GWKokab at its core used JAX for fast computation. To setup the behavior of JAX based on the accelerator you are using, you have to set the environment variables. Here are the environment variables that you can set:"
   ]
  },
  {
   "cell_type": "code",
   "execution_count": null,
   "metadata": {},
   "outputs": [],
   "source": [
    "import os\n",
    "\n",
    "\n",
    "os.environ[\"NPROC\"] = \"4\"\n",
    "os.environ[\"intra_op_parallelism_threads\"] = \"1\"\n",
    "os.environ[\"TF_CPP_MIN_LOG_LEVEL\"] = \"0\"\n",
    "os.environ[\"OPENBLAS_NUM_THREADS\"] = \"1\"\n",
    "os.environ[\"XLA_PYTHON_CLIENT_ALLOCATOR\"] = \"platform\"\n",
    "os.environ[\"TF_FORCE_GPU_ALLOW_GROWTH\"] = \"false\"\n",
    "os.environ[\"CUDA_VISIBLE_DEVICES\"] = \"0\""
   ]
  },
  {
   "cell_type": "markdown",
   "metadata": {},
   "source": [
    "## Necessary Imports\n",
    "\n",
    "Let's start by importing the necessary libraries."
   ]
  },
  {
   "cell_type": "code",
   "execution_count": null,
   "metadata": {},
   "outputs": [],
   "source": [
    "from pprint import pprint\n",
    "\n",
    "from IPython.display import display, Image\n",
    "from jax import vmap\n",
    "from jaxtyping import Array, Bool\n",
    "from numpyro import distributions as dist\n",
    "\n",
    "import gwkokab.models as gwk_model\n",
    "from gwkokab.errors import banana_error_m1_m2\n",
    "from gwkokab.parameters import (\n",
    "    ECCENTRICITY,\n",
    "    PRIMARY_MASS_SOURCE,\n",
    "    SECONDARY_MASS_SOURCE,\n",
    ")\n",
    "from gwkokab.population import (\n",
    "    NoisePopInfo,\n",
    "    PopInfo,\n",
    "    PopulationFactory,\n",
    "    run_noise_factory,\n",
    ")\n",
    "from gwkokab.vts.neuralvt import load_model"
   ]
  },
  {
   "cell_type": "markdown",
   "metadata": {},
   "source": [
    "## Constant Parameters\n",
    "\n",
    "People make typos all the time, and to avoid that, we have predefined the physical parameters in the [`gwkokab.parameters`](https://github.com/gwkokab/gwkokab/blob/main/gwkokab/parameters.py). They are more than the predefined parameters names, we will see this later."
   ]
  },
  {
   "cell_type": "code",
   "execution_count": null,
   "metadata": {},
   "outputs": [],
   "source": [
    "m1_source = PRIMARY_MASS_SOURCE().name\n",
    "m2_source = SECONDARY_MASS_SOURCE().name\n",
    "ecc = ECCENTRICITY().name\n",
    "\n",
    "print(m1_source, m2_source, ecc)"
   ]
  },
  {
   "cell_type": "markdown",
   "metadata": {},
   "source": [
    "Following are some useful variables for the VT sensitivity."
   ]
  },
  {
   "cell_type": "code",
   "execution_count": null,
   "metadata": {},
   "outputs": [],
   "source": [
    "VT_FILENAME = r\"neural_vt_1_200_1000.eqx\"\n",
    "VT_PARAMS = [m1_source, m2_source]\n",
    "ANALYSIS_TIME = 248\n",
    "NUM_REALIZATIONS = 3\n",
    "RATE = 100"
   ]
  },
  {
   "cell_type": "markdown",
   "metadata": {},
   "source": [
    "## How to define models and errors?\n",
    "\n",
    "GWKokab has adopted the style of defining models as dictionary. Keys of the dictionary contains the name of the parameters in order that a model will generate, and the value is the `numpyro.distributions.Distribution` object that is our model. More expressively,\n",
    "\n",
    "$$\n",
    "\\mathcal{M} := \\{(m_1,m_2): p(m_1,m_2\\mid\\alpha_m,m_{\\text{min}},m_{\\text{max}}), (\\epsilon,): \\mathcal{N}_{[a,b]}(\\epsilon\\mid\\mu,\\sigma^2)\\}\n",
    "$$"
   ]
  },
  {
   "cell_type": "code",
   "execution_count": null,
   "metadata": {},
   "outputs": [],
   "source": [
    "models = {\n",
    "    (m1_source, m2_source): gwk_model.Wysocki2019MassModel(\n",
    "        alpha_m=-1.0, mmin=10.0, mmax=50.0\n",
    "    ),\n",
    "    (ecc,): dist.TruncatedNormal(\n",
    "        scale=0.05, loc=0.0, low=0.0, high=0.05, validate_args=True\n",
    "    ),\n",
    "}"
   ]
  },
  {
   "cell_type": "markdown",
   "metadata": {},
   "source": [
    "Error functions are also defined as dictionary. Note that the error functions takes the row of data, size of error and `PRNGKey` in order."
   ]
  },
  {
   "cell_type": "code",
   "execution_count": null,
   "metadata": {},
   "outputs": [],
   "source": [
    "ERROR_FUNCS = {\n",
    "    (m1_source, m2_source): lambda x, size, key: banana_error_m1_m2(\n",
    "        x, size, key, scale_Mc=1.0, scale_eta=1.0\n",
    "    ),\n",
    "    (ecc,): lambda x, size, key: x\n",
    "    + dist.TruncatedNormal(loc=0, scale=0.06, low=0.0, high=0.06).sample(\n",
    "        key=key, sample_shape=(size,)\n",
    "    ),\n",
    "}"
   ]
  },
  {
   "cell_type": "markdown",
   "metadata": {},
   "source": [
    "## VT Sensitivity and flexibility for users\n",
    "\n",
    "We have allowed users to define the `logVT` function. This gives them the flexibility to chose any parameter for data model and VT sensitivity, only thing they have to change is the `logVT` function."
   ]
  },
  {
   "cell_type": "code",
   "execution_count": null,
   "metadata": {},
   "outputs": [],
   "source": [
    "_, logVT = load_model(VT_FILENAME)\n",
    "logVT = vmap(logVT)"
   ]
  },
  {
   "cell_type": "markdown",
   "metadata": {},
   "source": [
    "## Population Generation\n",
    "\n",
    "There is a dataclass `gwkokab.population.PopInfo`, that contains essential information required for the synthetic population generation. You can refer to documentation for more information."
   ]
  },
  {
   "cell_type": "code",
   "execution_count": null,
   "metadata": {},
   "outputs": [],
   "source": [
    "popinfo = PopInfo(\n",
    "    ROOT_DIR=r\"data\",\n",
    "    EVENT_FILENAME=\"event_{}\",\n",
    "    CONFIG_FILENAME=\"configuration\",\n",
    "    RATE=RATE,\n",
    "    NUM_REALIZATIONS=NUM_REALIZATIONS,\n",
    "    LOG_VT=logVT,\n",
    "    VT_PARAMS=VT_PARAMS,\n",
    "    TIME=ANALYSIS_TIME,\n",
    ")\n",
    "\n",
    "pprint(popinfo)"
   ]
  },
  {
   "cell_type": "markdown",
   "metadata": {},
   "source": [
    "Often we want to put an overall constraint on the population, for example, the primary mass should be greater than the secondary mass. We can do this by defining a function that takes the population as input and returns a boolean value. This function is then passed to the `gwkokab.population.PopulationFactory`."
   ]
  },
  {
   "cell_type": "code",
   "execution_count": null,
   "metadata": {},
   "outputs": [],
   "source": [
    "def constraint(x: Array) -> Bool:\n",
    "    m1 = x[..., 0]\n",
    "    m2 = x[..., 1]\n",
    "    ecc = x[..., 2]\n",
    "    mask = m2 <= m1\n",
    "    mask &= m2 > 0.0\n",
    "    mask &= m1 > 0.0\n",
    "    mask &= ecc >= 0.0\n",
    "    mask &= ecc <= 1.0\n",
    "    return mask\n",
    "\n",
    "\n",
    "popfactory = PopulationFactory(\n",
    "    models,\n",
    "    popinfo,\n",
    "    seperate_injections=True,\n",
    "    constraint=constraint,\n",
    ")"
   ]
  },
  {
   "cell_type": "markdown",
   "metadata": {},
   "source": [
    "With all set up, we can now generate the synthetic data."
   ]
  },
  {
   "cell_type": "code",
   "execution_count": null,
   "metadata": {},
   "outputs": [],
   "source": [
    "popfactory.generate_realizations()"
   ]
  },
  {
   "cell_type": "markdown",
   "metadata": {},
   "source": [
    "## Adding noise in realizations\n",
    "\n",
    "To add noise to the data, we have to make a `gwkokab.population.NoisePopInfo` object and pass the essential information to it. The noise is added to the data by calling the `run_noise_factory` function over the `gwkokab.population.NoisePopInfo` object."
   ]
  },
  {
   "cell_type": "code",
   "execution_count": null,
   "metadata": {},
   "outputs": [],
   "source": [
    "for i in range(popinfo.NUM_REALIZATIONS):\n",
    "    noisepopinfo = NoisePopInfo(\n",
    "        FILENAME_REGEX=rf\"data/realization_{i}/injections/event_*.dat\",\n",
    "        OUTPUT_DIR=rf\"data/realization_{i}\" + r\"/posteriors/event_{}.dat\",\n",
    "        HEADER=[m1_source, m2_source, ecc],\n",
    "        SIZE=20000,\n",
    "        ERROR_FUNCS=ERROR_FUNCS,\n",
    "    )\n",
    "\n",
    "    run_noise_factory(noisepopinfo)"
   ]
  },
  {
   "cell_type": "markdown",
   "metadata": {},
   "source": [
    "## Visualizing the Data\n",
    "\n",
    "Finally, we can visualize the data. You can use `matplotlib` or any other library of your choice to visualize the data. For your convenience, GWKokab is equipped with command line tools to visualize the data."
   ]
  },
  {
   "cell_type": "code",
   "execution_count": null,
   "metadata": {},
   "outputs": [],
   "source": [
    "!mkdir plots"
   ]
  },
  {
   "cell_type": "code",
   "execution_count": null,
   "metadata": {},
   "outputs": [],
   "source": [
    "!gwk_scatter2d \\\n",
    "    --data data/realization_0/injections.dat \\\n",
    "    --output plots/m1m2_inj_0.png \\\n",
    "    --x-value-column-index 0 \\\n",
    "    --y-value-column-index 1 \\\n",
    "    --xlabel \"\\$m_1\\$\" \\\n",
    "    --ylabel \"\\$m_2\\$\" \\\n",
    "    --title \"Injection Data\"\n",
    "\n",
    "display(Image(filename=\"plots/m1m2_inj_0.png\"))"
   ]
  },
  {
   "cell_type": "code",
   "execution_count": null,
   "metadata": {},
   "outputs": [],
   "source": [
    "!gwk_batch_scatter2d \\\n",
    "    --data \"data/realization_0/posteriors/event_*.dat\" \\\n",
    "    --output plots/m1m2_batch_0.png \\\n",
    "    --x-value-column-index 0 \\\n",
    "    --y-value-column-index 1 \\\n",
    "    --xlabel \"\\$m_1\\$\" \\\n",
    "    --ylabel \"\\$m_2\\$\" \\\n",
    "    --title \"Posterior Data\"\n",
    "\n",
    "display(Image(filename=\"plots/m1m2_batch_0.png\"))"
   ]
  },
  {
   "cell_type": "code",
   "execution_count": null,
   "metadata": {},
   "outputs": [],
   "source": [
    "!gwk_scatter3d \\\n",
    "    --data data/realization_0/injections.dat \\\n",
    "    --output plots/m1m2ecc_inj_0.png \\\n",
    "    --x-value-column-index 0 \\\n",
    "    --y-value-column-index 1 \\\n",
    "    --z-value-column-index 2 \\\n",
    "    --xlabel \"\\$m_1\\$\" \\\n",
    "    --ylabel \"\\$m_2\\$\" \\\n",
    "    --zlabel \"\\$\\epsilon\\$\" \\\n",
    "    --title \"3D Injection Data\" \n",
    "\n",
    "display(Image(filename=\"plots/m1m2ecc_inj_0.png\"))"
   ]
  },
  {
   "cell_type": "code",
   "execution_count": null,
   "metadata": {},
   "outputs": [],
   "source": [
    "!gwk_batch_scatter3d \\\n",
    "    --data \"data/realization_0/posteriors/event_*.dat\" \\\n",
    "    --output plots/m1m2ecc_batch_0.png \\\n",
    "    --x-value-column-index 0 \\\n",
    "    --y-value-column-index 1 \\\n",
    "    --z-value-column-index 2 \\\n",
    "    --xlabel \"\\$m_1\\$\" \\\n",
    "    --ylabel \"\\$m_2\\$\" \\\n",
    "    --zlabel \"\\$\\epsilon\\$\" \\\n",
    "    --title \"3D Posterior Data\"\n",
    "\n",
    "display(Image(filename=\"plots/m1m2ecc_batch_0.png\"))"
   ]
  }
 ],
 "metadata": {
  "kernelspec": {
   "display_name": "gwkenv",
   "language": "python",
   "name": "python3"
  },
  "language_info": {
   "codemirror_mode": {
    "name": "ipython",
    "version": 3
   },
   "file_extension": ".py",
   "mimetype": "text/x-python",
   "name": "python",
   "nbconvert_exporter": "python",
   "pygments_lexer": "ipython3",
   "version": "3.11.9"
  }
 },
 "nbformat": 4,
 "nbformat_minor": 2
}
